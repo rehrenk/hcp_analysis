{
 "cells": [
  {
   "cell_type": "code",
   "execution_count": 1,
   "id": "8be6459c",
   "metadata": {},
   "outputs": [],
   "source": [
    "import os\n",
    "import numpy as np\n",
    "import pandas as pd\n",
    "from nilearn import plotting\n",
    "from nilearn import image\n",
    "from nilearn import datasets\n",
    "from nilearn.maskers import NiftiLabelsMasker\n",
    "from nilearn.connectome import ConnectivityMeasure"
   ]
  },
  {
   "cell_type": "code",
   "execution_count": 2,
   "id": "dd170a99",
   "metadata": {},
   "outputs": [],
   "source": [
    "dataset = datasets.fetch_atlas_harvard_oxford('cort-maxprob-thr25-2mm') ## bringing in atlas\n",
    "atlas_filename = dataset.maps\n",
    "labels= dataset.labels ## contains ROIs\n",
    "masker = NiftiLabelsMasker(labels_img = atlas_filename, standardize=True) ## extract signals"
   ]
  },
  {
   "cell_type": "code",
   "execution_count": 3,
   "id": "931c193c",
   "metadata": {},
   "outputs": [],
   "source": [
    "# Set the folder with documents for text extraction as the working directory\n",
    "working_dir = r\"/Users/rebeccaehrenkranz/Desktop/HCP_HP2000_CLEAN/\"\n",
    "\n",
    "# Validate directory\n",
    "if not os.path.exists(working_dir):\n",
    "    raise Exception (\"Working directory '%s' not found!\" % (working_dir))\n",
    "    \n",
    "# Iterate through all files in folder and subfolders\n",
    "for root, dirs, files in os.walk(working_dir):\n",
    "    for filename in files:\n",
    "        \n",
    "        # Check if file type is NIFTI \n",
    "        if os.path.splitext(filename)[1] == '.nii':\n",
    "            participant_id = filename.split(\"_\")[0]\n",
    "            \n",
    "            # go from nifti to signal time series in numpy array\n",
    "            time_series = masker.fit_transform(os.path.join(working_dir, filename))\n",
    "            \n",
    "            # Creating the correlation matrix for each participant transforming time series data\n",
    "            correlation_measure = ConnectivityMeasure(kind='correlation')\n",
    "            correlation_matrix = correlation_measure.fit_transform([time_series])[0]\n",
    "            \n",
    "            # Create a subdirectory called 'txt' for plain text files\n",
    "            output_dir = \"/Users/rebeccaehrenkranz/Documents/hcp_correlation_matrices/\"\n",
    "\n",
    "            try:\n",
    "                os.stat(output_dir)\n",
    "            except:\n",
    "                os.mkdir(output_dir)\n",
    "            \n",
    "            # Creating csv exports of correlation matrices for each participant\n",
    "            df = pd.DataFrame(correlation_matrix)\n",
    "            df.index = labels[1:  ]\n",
    "            output_filename = '%s_correlation_matrix.csv' % participant_id\n",
    "            df.to_csv((output_dir + output_filename), header=labels[1: ])\n",
    "            "
   ]
  }
 ],
 "metadata": {
  "kernelspec": {
   "display_name": "Python 3 (ipykernel)",
   "language": "python",
   "name": "python3"
  },
  "language_info": {
   "codemirror_mode": {
    "name": "ipython",
    "version": 3
   },
   "file_extension": ".py",
   "mimetype": "text/x-python",
   "name": "python",
   "nbconvert_exporter": "python",
   "pygments_lexer": "ipython3",
   "version": "3.9.7"
  }
 },
 "nbformat": 4,
 "nbformat_minor": 5
}
